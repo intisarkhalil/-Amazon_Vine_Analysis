{
 "cells": [
  {
   "cell_type": "code",
   "execution_count": 6,
   "metadata": {
    "colab": {
     "base_uri": "https://localhost:8080/"
    },
    "id": "fu1eIj9s26ru",
    "outputId": "c9a5eb3d-aa58-49b7-969f-2975f739827c"
   },
   "outputs": [
    {
     "name": "stdout",
     "output_type": "stream",
     "text": [
      "\r",
      "0% [Working]\r",
      "            \r",
      "Hit:1 http://security.ubuntu.com/ubuntu bionic-security InRelease\n",
      "\r",
      "0% [Connecting to archive.ubuntu.com (91.189.88.142)] [Connected to cloud.r-pro\r",
      "0% [1 InRelease gpgv 88.7 kB] [Connecting to archive.ubuntu.com (91.189.88.142)\r",
      "                                                                               \r",
      "Hit:2 https://cloud.r-project.org/bin/linux/ubuntu bionic-cran40/ InRelease\n",
      "\r",
      "0% [1 InRelease gpgv 88.7 kB] [Waiting for headers] [Waiting for headers] [Wait\r",
      "                                                                               \r",
      "Ign:3 https://developer.download.nvidia.com/compute/cuda/repos/ubuntu1804/x86_64  InRelease\n",
      "Hit:4 http://ppa.launchpad.net/c2d4u.team/c2d4u4.0+/ubuntu bionic InRelease\n",
      "Ign:5 https://developer.download.nvidia.com/compute/machine-learning/repos/ubuntu1804/x86_64  InRelease\n",
      "Hit:6 http://archive.ubuntu.com/ubuntu bionic InRelease\n",
      "Hit:7 https://developer.download.nvidia.com/compute/cuda/repos/ubuntu1804/x86_64  Release\n",
      "Hit:8 https://developer.download.nvidia.com/compute/machine-learning/repos/ubuntu1804/x86_64  Release\n",
      "Hit:9 http://archive.ubuntu.com/ubuntu bionic-updates InRelease\n",
      "Hit:10 http://ppa.launchpad.net/cran/libgit2/ubuntu bionic InRelease\n",
      "Hit:11 http://archive.ubuntu.com/ubuntu bionic-backports InRelease\n",
      "Hit:12 http://ppa.launchpad.net/deadsnakes/ppa/ubuntu bionic InRelease\n",
      "Hit:13 http://ppa.launchpad.net/graphics-drivers/ppa/ubuntu bionic InRelease\n",
      "Reading package lists... Done\n"
     ]
    }
   ],
   "source": [
    "import os\n",
    "# Find the latest version of spark 3.0 from http://www.apache.org/dist/spark/ and enter as the spark version\n",
    "# For example:\n",
    "# spark_version = 'spark-3.0.3'\n",
    "spark_version = 'spark-3.0.3'\n",
    "os.environ['SPARK_VERSION']=spark_version\n",
    "\n",
    "# Install Spark and Java\n",
    "!apt-get update\n",
    "!apt-get install openjdk-11-jdk-headless -qq > /dev/null\n",
    "!wget -q http://www.apache.org/dist/spark/$SPARK_VERSION/$SPARK_VERSION-bin-hadoop2.7.tgz\n",
    "!tar xf $SPARK_VERSION-bin-hadoop2.7.tgz\n",
    "!pip install -q findspark\n",
    "\n",
    "# Set Environment Variables\n",
    "import os\n",
    "os.environ[\"JAVA_HOME\"] = \"/usr/lib/jvm/java-11-openjdk-amd64\"\n",
    "os.environ[\"SPARK_HOME\"] = f\"/content/{spark_version}-bin-hadoop2.7\"\n",
    "\n",
    "# Start a SparkSession\n",
    "import findspark\n",
    "findspark.init()"
   ]
  },
  {
   "cell_type": "code",
   "execution_count": 8,
   "metadata": {
    "id": "VWc-L7Mw4hJF"
   },
   "outputs": [],
   "source": [
    "from pyspark.sql import SparkSession\n",
    "spark = SparkSession.builder.appName(\"M16-VineReview-Challenge\").getOrCreate()"
   ]
  },
  {
   "cell_type": "code",
   "execution_count": 9,
   "metadata": {
    "colab": {
     "base_uri": "https://localhost:8080/"
    },
    "id": "1Tf6mkun4hoX",
    "outputId": "2c458b54-8e3c-4770-f0ed-6db9b4edcee0"
   },
   "outputs": [
    {
     "name": "stdout",
     "output_type": "stream",
     "text": [
      "+-----------+-----------+--------------+----------+--------------+--------------------+----------------+-----------+-------------+-----------+----+-----------------+--------------------+--------------------+-----------+\n",
      "|marketplace|customer_id|     review_id|product_id|product_parent|       product_title|product_category|star_rating|helpful_votes|total_votes|vine|verified_purchase|     review_headline|         review_body|review_date|\n",
      "+-----------+-----------+--------------+----------+--------------+--------------------+----------------+-----------+-------------+-----------+----+-----------------+--------------------+--------------------+-----------+\n",
      "|         US|    1774101|R3PMQXEVYR4ZT1|B00DVKOYBM|     263046246|         8 Ball Pool|     Mobile_Apps|          3|            0|          0|   N|                Y|                 Fun|It is a fun game ...| 2015-08-31|\n",
      "|         US|   13679234|R1I1K3EO98EMUV|B00R1IA4RS|     128868854|Christmas Cookie ...|     Mobile_Apps|          5|            0|          0|   N|                Y|          Five Stars|Fun cute game.  S...| 2015-08-31|\n",
      "|         US|   15056632|R3K23URSI2MY42|B01069LGHK|     955481764|Relax Melodies Pr...|     Mobile_Apps|          5|            4|          4|   N|                Y|         Great app !|It's a very nice ...| 2015-08-31|\n",
      "|         US|   52477711| RH2P770T10X38|B00X64ZKM0|     455029830|  Star Trek™ Trexels|     Mobile_Apps|          5|            0|          0|   N|                Y|             awesome|I am a huge star ...| 2015-08-31|\n",
      "|         US|   15021042| RV9YBAW8CWFYN|B00KIZO238|     685358159|      Weather Friend|     Mobile_Apps|          1|            0|          0|   N|                Y|      Don't like it.|I get better info...| 2015-08-31|\n",
      "|         US|    5181462| R19627K7G1G6X|B00H9FE0FU|     158085302|         Avakin Life|     Mobile_Apps|          5|            0|          0|   N|                Y|             love it|  This is a fun game| 2015-08-31|\n",
      "|         US|   19360265|R22858XECEF7YQ|B0064X7FVE|     140639925|The Weather Chann...|     Mobile_Apps|          3|            0|          0|   N|                N|         weather app|It's ok ... I gue...| 2015-08-31|\n",
      "|         US|   28928572|R3KQOY7MDZOK0U|B00N28818A|     838378762|  Amazon Prime Video|     Mobile_Apps|          1|            0|          0|   N|                Y|            One Star|Spent 30 minutes,...| 2015-08-31|\n",
      "|         US|   26842555|R31BKIN02QFDHS|B00HGMXSGI|     141073643|F1 Car Racing 3D ...|     Mobile_Apps|          4|            0|          0|   N|                Y|          Four Stars|                okay| 2015-08-31|\n",
      "|         US|   25535583|R3FW62P5EUDUUV|B0119R2DB6|     498391460|           WordBrain|     Mobile_Apps|          5|            0|          0|   N|                Y|        Challenging!|Definitely one of...| 2015-08-31|\n",
      "|         US|    3343825| RBD8ROQJQO68E|B00O0OR65E|     156086007|           Yes Chef!|     Mobile_Apps|          5|            0|          0|   N|                Y|            Awesome!|Very cool game. W...| 2015-08-31|\n",
      "|         US|   49181739|R1S04R7IT12FKH|B00YCL9R0W|     629058532|Weather Live - De...|     Mobile_Apps|          4|            0|          0|   N|                Y|       Works great!!|Works great, all ...| 2015-08-31|\n",
      "|         US|   13270659|R194G91R3ZLBF2|B00CO6TOZA|     829161463|The Sandbox - Pix...|     Mobile_Apps|          1|            0|          0|   N|                Y|       Can't open it|It was fun until ...| 2015-08-31|\n",
      "|         US|    2463531|R3HL9X6I540JIU|B0143IEV2C|     700349630|Free Fur All – We...|     Mobile_Apps|          4|            3|          3|   N|                Y|           it's fun.|My daughter watch...| 2015-08-31|\n",
      "|         US|   22004512|R2EY7KOBYDYXXA|B013Z61TSW|     597449900| DraftCaddy FFL 2015|     Mobile_Apps|          5|            0|          0|   N|                Y|          Five Stars|Great and super e...| 2015-08-31|\n",
      "|         US|   22117302|R25RWPOJZ107LS|B00VTVJYTC|     280276697|    Balloon Paradise|     Mobile_Apps|          5|            0|          0|   N|                Y|                 fun|This is fun too play| 2015-08-31|\n",
      "|         US|   15335275|R3CXLGDEO7QPGY|B00W3V83QW|     644120444| Bubble Witch 2 Saga|     Mobile_Apps|          1|            0|          0|   N|                Y|Cannot download e...|Cannot download  ...| 2015-08-31|\n",
      "|         US|    8713121|R3AEWJ6OQZI2DV|B011WDWQ6O|     228013366|Viva Vegas Slots ...|     Mobile_Apps|          3|            0|          0|   N|                Y|               agree|The game sucks yo...| 2015-08-31|\n",
      "|         US|   25989961|R3QD4EAHDX3JVP|B00F9G2UQW|     523400408|Android Universal...|     Mobile_Apps|          3|            0|          0|   N|                Y|            Horrible|It's so annoying ...| 2015-08-31|\n",
      "|         US|    3729602| R14F4B4CZ4RIJ|B00Y3ZWEL6|     860150135|Castle of Illusio...|     Mobile_Apps|          1|            0|          2|   N|                Y|               Why?!|I have been tryin...| 2015-08-31|\n",
      "+-----------+-----------+--------------+----------+--------------+--------------------+----------------+-----------+-------------+-----------+----+-----------------+--------------------+--------------------+-----------+\n",
      "only showing top 20 rows\n",
      "\n"
     ]
    }
   ],
   "source": [
    "from pyspark import SparkFiles\n",
    "url = \"https://s3.amazonaws.com/amazon-reviews-pds/tsv/amazon_reviews_us_Mobile_Apps_v1_00.tsv.gz\"\n",
    "spark.sparkContext.addFile(url)\n",
    "df = spark.read.option(\"encoding\", \"UTF-8\").csv(SparkFiles.get(\"amazon_reviews_us_Mobile_Apps_v1_00.tsv.gz\"), sep=\"\\t\", header=True, inferSchema=True)\n",
    "df.show()"
   ]
  },
  {
   "cell_type": "code",
   "execution_count": 10,
   "metadata": {
    "colab": {
     "base_uri": "https://localhost:8080/"
    },
    "id": "ES3E9F6L4iCF",
    "outputId": "ea326f1c-0e4b-4285-af93-e9c2b6e227cc"
   },
   "outputs": [
    {
     "name": "stdout",
     "output_type": "stream",
     "text": [
      "+-----------+-----------+--------------+----------+--------------+--------------------+----------------+-----------+-------------+-----------+----+-----------------+---------------+--------------------+-----------+\n",
      "|marketplace|customer_id|     review_id|product_id|product_parent|       product_title|product_category|star_rating|helpful_votes|total_votes|vine|verified_purchase|review_headline|         review_body|review_date|\n",
      "+-----------+-----------+--------------+----------+--------------+--------------------+----------------+-----------+-------------+-----------+----+-----------------+---------------+--------------------+-----------+\n",
      "|         US|    1774101|R3PMQXEVYR4ZT1|B00DVKOYBM|     263046246|         8 Ball Pool|     Mobile_Apps|          3|            0|          0|   N|                Y|            Fun|It is a fun game ...| 2015-08-31|\n",
      "|         US|   13679234|R1I1K3EO98EMUV|B00R1IA4RS|     128868854|Christmas Cookie ...|     Mobile_Apps|          5|            0|          0|   N|                Y|     Five Stars|Fun cute game.  S...| 2015-08-31|\n",
      "|         US|   15056632|R3K23URSI2MY42|B01069LGHK|     955481764|Relax Melodies Pr...|     Mobile_Apps|          5|            4|          4|   N|                Y|    Great app !|It's a very nice ...| 2015-08-31|\n",
      "|         US|   52477711| RH2P770T10X38|B00X64ZKM0|     455029830|  Star Trek™ Trexels|     Mobile_Apps|          5|            0|          0|   N|                Y|        awesome|I am a huge star ...| 2015-08-31|\n",
      "|         US|   15021042| RV9YBAW8CWFYN|B00KIZO238|     685358159|      Weather Friend|     Mobile_Apps|          1|            0|          0|   N|                Y| Don't like it.|I get better info...| 2015-08-31|\n",
      "+-----------+-----------+--------------+----------+--------------+--------------------+----------------+-----------+-------------+-----------+----+-----------------+---------------+--------------------+-----------+\n",
      "only showing top 5 rows\n",
      "\n"
     ]
    }
   ],
   "source": [
    "cleaned_df = df.dropna()\n",
    "cleaned_df.show(5)"
   ]
  },
  {
   "cell_type": "code",
   "execution_count": 11,
   "metadata": {
    "colab": {
     "base_uri": "https://localhost:8080/"
    },
    "id": "jZKYZhNc4iah",
    "outputId": "2a3c7893-b962-4e9d-be2c-b5f3e4691b45"
   },
   "outputs": [
    {
     "name": "stdout",
     "output_type": "stream",
     "text": [
      "+--------------+-----------+-------------+-----------+----+-----------------+\n",
      "|     review_id|star_rating|helpful_votes|total_votes|vine|verified_purchase|\n",
      "+--------------+-----------+-------------+-----------+----+-----------------+\n",
      "|R3PMQXEVYR4ZT1|          3|            0|          0|   N|                Y|\n",
      "|R1I1K3EO98EMUV|          5|            0|          0|   N|                Y|\n",
      "|R3K23URSI2MY42|          5|            4|          4|   N|                Y|\n",
      "| RH2P770T10X38|          5|            0|          0|   N|                Y|\n",
      "| RV9YBAW8CWFYN|          1|            0|          0|   N|                Y|\n",
      "+--------------+-----------+-------------+-----------+----+-----------------+\n",
      "only showing top 5 rows\n",
      "\n"
     ]
    }
   ],
   "source": [
    "# Create the vine_table. DataFrame\n",
    "vine_df = cleaned_df.select([\"review_id\",\"star_rating\", \"helpful_votes\",\"total_votes\",\"vine\",\"verified_purchase\"])\n",
    "vine_df.show(5)"
   ]
  },
  {
   "cell_type": "code",
   "execution_count": 13,
   "metadata": {
    "colab": {
     "base_uri": "https://localhost:8080/"
    },
    "id": "V7eaGyjp43m6",
    "outputId": "bdd9b8bc-29dc-4ede-a293-429f1d30e27d"
   },
   "outputs": [
    {
     "name": "stdout",
     "output_type": "stream",
     "text": [
      "+--------------+-----------+-------------+-----------+----+-----------------+\n",
      "|     review_id|star_rating|helpful_votes|total_votes|vine|verified_purchase|\n",
      "+--------------+-----------+-------------+-----------+----+-----------------+\n",
      "|R1Z9QZRQJ1F8JX|          1|           17|         22|   N|                Y|\n",
      "|R31PAYBVBP8W62|          1|           54|         81|   N|                Y|\n",
      "|R33GCMAT1K5DX8|          2|          141|        190|   N|                Y|\n",
      "|R3MIL83RY4SMS4|          1|           27|         38|   N|                Y|\n",
      "|R37T9FXGG07XOM|          1|           24|         28|   N|                Y|\n",
      "|R2E9ZHX72173PZ|          1|           14|         21|   N|                Y|\n",
      "|R2I6YA0BVG78P6|          3|           59|         70|   N|                Y|\n",
      "|R1NB53BPRH24RK|          5|           15|         26|   N|                Y|\n",
      "|R3AX1CCCZH20C5|          5|           17|         26|   N|                Y|\n",
      "|R1FOM4K4S3S1A3|          4|           19|         22|   N|                N|\n",
      "|  RD5ROPRIYJU2|          5|           66|         79|   N|                Y|\n",
      "| R91KQZU47W02I|          5|           25|         33|   N|                Y|\n",
      "| RIKCO3Q55X4O0|          3|           21|         25|   N|                Y|\n",
      "|R3ID5IVQDI73P3|          1|          269|        309|   N|                Y|\n",
      "|R1B24LSVGX0L2C|          5|           42|         50|   N|                Y|\n",
      "|R3W34NSP5WLD48|          1|           57|         69|   N|                Y|\n",
      "|R2U660ZUAD0A3P|          5|           22|         23|   N|                Y|\n",
      "| R82AY61IZLUH3|          5|           24|         25|   N|                Y|\n",
      "|R19YST56G6DV8M|          5|           56|         64|   N|                Y|\n",
      "|R2I9QXF92BA3GA|          5|           13|         21|   N|                Y|\n",
      "+--------------+-----------+-------------+-----------+----+-----------------+\n",
      "only showing top 20 rows\n",
      "\n"
     ]
    }
   ],
   "source": [
    "# Step 1: Filter the data and create a new DataFrame or table to retrieve all the rows where the total_votes count is equal to or greater than 20\n",
    "from pyspark.sql.functions import col\n",
    "total_votes_df = vine_df.filter(col(\"total_votes\") >= 20)\n",
    "total_votes_df.show()"
   ]
  },
  {
   "cell_type": "code",
   "execution_count": 14,
   "metadata": {
    "colab": {
     "base_uri": "https://localhost:8080/"
    },
    "id": "H-hNJuOz44Dx",
    "outputId": "95b2f638-e8f9-4319-9e90-70eda9fd22cf"
   },
   "outputs": [
    {
     "name": "stdout",
     "output_type": "stream",
     "text": [
      "+--------------+-----------+-------------+-----------+----+-----------------+------------------+\n",
      "|     review_id|star_rating|helpful_votes|total_votes|vine|verified_purchase|     percent_votes|\n",
      "+--------------+-----------+-------------+-----------+----+-----------------+------------------+\n",
      "|R1Z9QZRQJ1F8JX|          1|           17|         22|   N|                Y|0.7727272727272727|\n",
      "|R31PAYBVBP8W62|          1|           54|         81|   N|                Y|0.6666666666666666|\n",
      "|R33GCMAT1K5DX8|          2|          141|        190|   N|                Y|0.7421052631578947|\n",
      "|R3MIL83RY4SMS4|          1|           27|         38|   N|                Y|0.7105263157894737|\n",
      "|R37T9FXGG07XOM|          1|           24|         28|   N|                Y|0.8571428571428571|\n",
      "|R2E9ZHX72173PZ|          1|           14|         21|   N|                Y|0.6666666666666666|\n",
      "|R2I6YA0BVG78P6|          3|           59|         70|   N|                Y|0.8428571428571429|\n",
      "|R1NB53BPRH24RK|          5|           15|         26|   N|                Y|0.5769230769230769|\n",
      "|R3AX1CCCZH20C5|          5|           17|         26|   N|                Y|0.6538461538461539|\n",
      "|R1FOM4K4S3S1A3|          4|           19|         22|   N|                N|0.8636363636363636|\n",
      "|  RD5ROPRIYJU2|          5|           66|         79|   N|                Y|0.8354430379746836|\n",
      "| R91KQZU47W02I|          5|           25|         33|   N|                Y|0.7575757575757576|\n",
      "| RIKCO3Q55X4O0|          3|           21|         25|   N|                Y|              0.84|\n",
      "|R3ID5IVQDI73P3|          1|          269|        309|   N|                Y|0.8705501618122977|\n",
      "|R1B24LSVGX0L2C|          5|           42|         50|   N|                Y|              0.84|\n",
      "|R3W34NSP5WLD48|          1|           57|         69|   N|                Y|0.8260869565217391|\n",
      "|R2U660ZUAD0A3P|          5|           22|         23|   N|                Y|0.9565217391304348|\n",
      "| R82AY61IZLUH3|          5|           24|         25|   N|                Y|              0.96|\n",
      "|R19YST56G6DV8M|          5|           56|         64|   N|                Y|             0.875|\n",
      "|R2I9QXF92BA3GA|          5|           13|         21|   N|                Y|0.6190476190476191|\n",
      "+--------------+-----------+-------------+-----------+----+-----------------+------------------+\n",
      "only showing top 20 rows\n",
      "\n"
     ]
    }
   ],
   "source": [
    "# Step 2: Retrieve all the rows where the number of helpful_votes divided by total_votes is equal to or greater than 50%.\n",
    "percent_votes_df = total_votes_df.withColumn('percent_votes',col('helpful_votes')/col('total_votes')).alias('percent_votes').filter(col(\"percent_votes\") >= 0.5)\n",
    "percent_votes_df.show()"
   ]
  },
  {
   "cell_type": "code",
   "execution_count": 15,
   "metadata": {
    "colab": {
     "base_uri": "https://localhost:8080/"
    },
    "id": "-nlEiv855Hus",
    "outputId": "4264aac1-23e0-4d52-fe5a-74e5cac4e8c7"
   },
   "outputs": [
    {
     "name": "stdout",
     "output_type": "stream",
     "text": [
      "+---------+-----------+-------------+-----------+----+-----------------+-------------+\n",
      "|review_id|star_rating|helpful_votes|total_votes|vine|verified_purchase|percent_votes|\n",
      "+---------+-----------+-------------+-----------+----+-----------------+-------------+\n",
      "+---------+-----------+-------------+-----------+----+-----------------+-------------+\n",
      "\n"
     ]
    }
   ],
   "source": [
    "# Step 3: Retrieves all the rows where a review was written as part of the Vine program (paid)\n",
    "paid_df = percent_votes_df.filter(col(\"vine\") == \"Y\").show()"
   ]
  },
  {
   "cell_type": "code",
   "execution_count": 16,
   "metadata": {
    "colab": {
     "base_uri": "https://localhost:8080/"
    },
    "id": "99C9KHJv5IIK",
    "outputId": "fd0b9267-1e85-4beb-d623-7abafce4626b"
   },
   "outputs": [
    {
     "name": "stdout",
     "output_type": "stream",
     "text": [
      "+--------------+-----------+-------------+-----------+----+-----------------+------------------+\n",
      "|     review_id|star_rating|helpful_votes|total_votes|vine|verified_purchase|     percent_votes|\n",
      "+--------------+-----------+-------------+-----------+----+-----------------+------------------+\n",
      "|R1Z9QZRQJ1F8JX|          1|           17|         22|   N|                Y|0.7727272727272727|\n",
      "|R31PAYBVBP8W62|          1|           54|         81|   N|                Y|0.6666666666666666|\n",
      "|R33GCMAT1K5DX8|          2|          141|        190|   N|                Y|0.7421052631578947|\n",
      "|R3MIL83RY4SMS4|          1|           27|         38|   N|                Y|0.7105263157894737|\n",
      "|R37T9FXGG07XOM|          1|           24|         28|   N|                Y|0.8571428571428571|\n",
      "|R2E9ZHX72173PZ|          1|           14|         21|   N|                Y|0.6666666666666666|\n",
      "|R2I6YA0BVG78P6|          3|           59|         70|   N|                Y|0.8428571428571429|\n",
      "|R1NB53BPRH24RK|          5|           15|         26|   N|                Y|0.5769230769230769|\n",
      "|R3AX1CCCZH20C5|          5|           17|         26|   N|                Y|0.6538461538461539|\n",
      "|R1FOM4K4S3S1A3|          4|           19|         22|   N|                N|0.8636363636363636|\n",
      "|  RD5ROPRIYJU2|          5|           66|         79|   N|                Y|0.8354430379746836|\n",
      "| R91KQZU47W02I|          5|           25|         33|   N|                Y|0.7575757575757576|\n",
      "| RIKCO3Q55X4O0|          3|           21|         25|   N|                Y|              0.84|\n",
      "|R3ID5IVQDI73P3|          1|          269|        309|   N|                Y|0.8705501618122977|\n",
      "|R1B24LSVGX0L2C|          5|           42|         50|   N|                Y|              0.84|\n",
      "|R3W34NSP5WLD48|          1|           57|         69|   N|                Y|0.8260869565217391|\n",
      "|R2U660ZUAD0A3P|          5|           22|         23|   N|                Y|0.9565217391304348|\n",
      "| R82AY61IZLUH3|          5|           24|         25|   N|                Y|              0.96|\n",
      "|R19YST56G6DV8M|          5|           56|         64|   N|                Y|             0.875|\n",
      "|R2I9QXF92BA3GA|          5|           13|         21|   N|                Y|0.6190476190476191|\n",
      "+--------------+-----------+-------------+-----------+----+-----------------+------------------+\n",
      "only showing top 20 rows\n",
      "\n"
     ]
    }
   ],
   "source": [
    "# Step 4: Retrieves all the rows where the review was not part of the Vine program (unpaid)\n",
    "non_paid_df = percent_votes_df.filter(col(\"vine\") == \"N\").show()"
   ]
  },
  {
   "cell_type": "code",
   "execution_count": 17,
   "metadata": {
    "colab": {
     "base_uri": "https://localhost:8080/"
    },
    "id": "jUhMmfOL5Vi4",
    "outputId": "ba5e40f5-c6d2-4730-bd47-b34e8d70d43a"
   },
   "outputs": [
    {
     "name": "stdout",
     "output_type": "stream",
     "text": [
      "+----+-------------+--------------------+------------------+\n",
      "|vine|Total_Reviews|Total_5_Star_Reviews| %_5_Star_To_Total|\n",
      "+----+-------------+--------------------+------------------+\n",
      "|   N|       129508|               59271|45.766284708280565|\n",
      "+----+-------------+--------------------+------------------+\n",
      "\n"
     ]
    }
   ],
   "source": [
    "# Step 5: Determine the total number of reviews, the number of 5-star reviews, and the percentage of 5-star reviews for the two types of review (paid vs unpaid).\n",
    "from pyspark.sql.functions import col,when,count,lit\n",
    "ratings_total_df = percent_votes_df.groupBy(\"vine\").agg(\n",
    "    count(col(\"vine\")).alias(\"Total_Reviews\"),\n",
    "    count(when(col(\"star_rating\") == 5, True)).alias(\"Total_5_Star_Reviews\"),\n",
    "    (count(when(col(\"star_rating\") == 5, True))/count(col(\"vine\"))*100).alias(\"%_5_Star_To_Total\")).show()"
   ]
  },
  {
   "cell_type": "code",
   "execution_count": null,
   "metadata": {
    "id": "nZ3tXbAo5V-T"
   },
   "outputs": [],
   "source": []
  }
 ],
 "metadata": {
  "colab": {
   "collapsed_sections": [],
   "name": "Vine_Review_Analysis.ipynb",
   "provenance": []
  },
  "kernelspec": {
   "display_name": "Python 3",
   "language": "python",
   "name": "python3"
  },
  "language_info": {
   "codemirror_mode": {
    "name": "ipython",
    "version": 3
   },
   "file_extension": ".py",
   "mimetype": "text/x-python",
   "name": "python",
   "nbconvert_exporter": "python",
   "pygments_lexer": "ipython3",
   "version": "3.6.10"
  }
 },
 "nbformat": 4,
 "nbformat_minor": 1
}
